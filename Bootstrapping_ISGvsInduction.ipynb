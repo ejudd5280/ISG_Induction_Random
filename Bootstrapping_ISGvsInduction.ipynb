{
 "cells": [
  {
   "cell_type": "code",
   "execution_count": 1,
   "metadata": {
    "collapsed": true
   },
   "outputs": [],
   "source": [
    "import numpy as np\n",
    "import pandas as pd\n",
    "import matplotlib.pyplot as plt\n",
    "%matplotlib inline\n",
    "import scipy.stats as sps"
   ]
  },
  {
   "cell_type": "code",
   "execution_count": 2,
   "metadata": {
    "collapsed": true
   },
   "outputs": [],
   "source": [
    "df_Induction = pd.read_csv('../CSV_files/IFN Induction Genes.csv')\n",
    "df_ISG= pd.read_csv('../CSV_files/ISGs.csv')"
   ]
  },
  {
   "cell_type": "code",
   "execution_count": 5,
   "metadata": {},
   "outputs": [
    {
     "name": "stdout",
     "output_type": "stream",
     "text": [
      "       ID  Nseqs       M0    TreeL         P-val      2dLNL   M8\n",
      "0    BST2     20  0.73156   1.6286  8.444900e-03   6.936600  yes\n",
      "1  TRIM5_     17  1.16142  1.29457  4.290000e-18  75.185502  yes\n",
      "2  TRIM56     19  0.07746  0.79052  4.534933e-01   0.561906  NaN\n",
      "3  TRIM38     20  0.32685  0.67944  2.951337e-01   1.096054  NaN\n",
      "4    IDO1     19  0.37517  0.80084  2.224475e-01   1.488512  NaN\n",
      "\n",
      "\n",
      "      ID  Nseqs       M0    TreeL      P-val      2dLNL   M8\n",
      "0   AIM2     16  0.59897  0.73874   4.04E-06  21.246328  yes\n",
      "1   DDX3     19  0.10917  0.58028     p>0.05  15.198006  yes\n",
      "2  DDX41     17  0.05331  0.50841     p>0.05   0.022944  NaN\n",
      "3  DDX58     18  0.34176  0.44445   2.93E-07  26.295116  yes\n",
      "4  DDX60     13  0.30487  0.48340  0.0003593  12.732576  yes\n"
     ]
    }
   ],
   "source": [
    "df_Induction.columns, df_ISG.columns = ['ID','Nseqs','M0','TreeL','P-val','2dLNL','M8'], ['ID','Nseqs','M0','TreeL','P-val','2dLNL','M8']\n",
    "print df_ISG.head()\n",
    "print '\\n'\n",
    "print df_Induction.head()"
   ]
  },
  {
   "cell_type": "code",
   "execution_count": 6,
   "metadata": {},
   "outputs": [
    {
     "data": {
      "image/png": "[encoded data removed]",
      "text/plain": [
       "<matplotlib.figure.Figure at 0x114de2e90>"
      ]
     },
     "metadata": {},
     "output_type": "display_data"
    },
    {
     "data": {
      "image/png": "[encoded data removed]",
      "text/plain": [
       "<matplotlib.figure.Figure at 0x1174acf50>"
      ]
     },
     "metadata": {},
     "output_type": "display_data"
    }
   ],
   "source": [
    "\n",
    "#dnds_vals = [_ for _ in np.nan_to_num(np.array(df['dN/dS M0'])) if _!=0]\n",
    "dnds_Induction = df_Induction['M0']\n",
    "dnds_ISG = df_ISG['M0']\n",
    "plt.hist(dnds_Induction,bins=25,histtype='step',lw=2,color='k')\n",
    "plt.title('dnds Induction Genes Histogram')\n",
    "plt.show()\n",
    "\n",
    "plt.hist(dnds_ISG,bins=25,histtype='step',lw=2,color='k')\n",
    "plt.title('dnds ISG Histogram')\n",
    "plt.show()"
   ]
  },
  {
   "cell_type": "code",
   "execution_count": 12,
   "metadata": {},
   "outputs": [
    {
     "data": {
      "image/png": "[encoded data removed]",
      "text/plain": [
       "<matplotlib.figure.Figure at 0x114e10a90>"
      ]
     },
     "metadata": {},
     "output_type": "display_data"
    }
   ],
   "source": [
    "\n",
    "def bootstrap_samples_mean(array,nsamples=100):\n",
    "    bootstrap_array = []\n",
    "    for _ in range(nsamples):\n",
    "        bootstrap_array.append(np.mean(np.random.choice(array,len(array),replace=True)))\n",
    "    return bootstrap_array\n",
    "\n",
    "\n",
    "bootstrap_mean_Induction = bootstrap_samples_mean(dnds_Induction,10000)\n",
    "bootstrap_mean_ISG = bootstrap_samples_mean(dnds_ISG,10000)\n",
    "plt.hist(bootstrap_mean_Induction,bins=50,color='green',alpha=0.5,label='Bootstrapped means Induction Genes',normed=True)\n",
    "plt.hist(bootstrap_mean_ISG,bins=50,color='red',alpha=0.5,label='Bootstrapped means ISG',normed=True)\n",
    "\n",
    "\n",
    "plt.title('bootstrap means for dN/dS vals')\n",
    "#plt.axvline(np.mean(dnds_vals),color='k',lw)\n",
    "plt.legend()\n",
    "plt.savefig('../Figures/bootstrap_mean_histograms3.pdf')\n",
    "plt.show()\n"
   ]
  },
  {
   "cell_type": "code",
   "execution_count": 13,
   "metadata": {
    "collapsed": true
   },
   "outputs": [],
   "source": [
    "false_pos_rate = len([_ for _ in bootstrap_mean_ISG if _ < max(bootstrap_mean_Induction)])/float(len(bootstrap_mean_ISG))\n",
    "false_neg_rate = len([_ for _ in bootstrap_mean_Induction if _ > min(bootstrap_mean_ISG)])/float(len(bootstrap_mean_Induction))"
   ]
  },
  {
   "cell_type": "code",
   "execution_count": 14,
   "metadata": {},
   "outputs": [
    {
     "name": "stdout",
     "output_type": "stream",
     "text": [
      "0.0592 0.0766\n"
     ]
    }
   ],
   "source": [
    "print false_neg_rate, false_pos_rate"
   ]
  },
  {
   "cell_type": "code",
   "execution_count": 16,
   "metadata": {},
   "outputs": [
    {
     "data": {
      "text/plain": [
       "Ks_2sampResult(statistic=0.27668520276685199, pvalue=0.0023102558993522231)"
      ]
     },
     "execution_count": 16,
     "metadata": {},
     "output_type": "execute_result"
    }
   ],
   "source": [
    "# perform kolmogrov-smirnov test to test whether or not the two dNdS distributions are different:\n",
    "\n",
    "sps.ks_2samp(dnds_Induction,dnds_ISG)"
   ]
  },
  {
   "cell_type": "code",
   "execution_count": null,
   "metadata": {
    "collapsed": true
   },
   "outputs": [],
   "source": []
  }
 ],
 "metadata": {
  "kernelspec": {
   "display_name": "Python 2",
   "language": "python",
   "name": "python2"
  },
  "language_info": {
   "codemirror_mode": {
    "name": "ipython",
    "version": 2
   },
   "file_extension": ".py",
   "mimetype": "text/x-python",
   "name": "python",
   "nbconvert_exporter": "python",
   "pygments_lexer": "ipython2",
   "version": "2.7.13"
  }
 },
 "nbformat": 4,
 "nbformat_minor": 2
}
