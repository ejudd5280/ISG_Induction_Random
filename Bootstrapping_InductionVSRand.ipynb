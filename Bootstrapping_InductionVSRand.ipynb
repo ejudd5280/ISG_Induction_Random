{
 "cells": [
  {
   "cell_type": "code",
   "execution_count": 7,
   "metadata": {
    "collapsed": true
   },
   "outputs": [],
   "source": [
    "import numpy as np\n",
    "import pandas as pd\n",
    "import matplotlib.pyplot as plt\n",
    "%matplotlib inline\n",
    "import scipy.stats as sps"
   ]
  },
  {
   "cell_type": "code",
   "execution_count": 8,
   "metadata": {
    "collapsed": true
   },
   "outputs": [],
   "source": [
    "df_Induction = pd.read_csv('../CSV_files/IFN Induction Genes.csv')\n",
    "df_Rand = pd.read_csv('../CSV_files/Random_Genes.csv')"
   ]
  },
  {
   "cell_type": "code",
   "execution_count": 11,
   "metadata": {},
   "outputs": [
    {
     "name": "stdout",
     "output_type": "stream",
     "text": [
      "      ID  Nseqs       M0    TreeL      P-val      2dLNL   M8\n",
      "0   AIM2     16  0.59897  0.73874   4.04E-06  21.246328  yes\n",
      "1   DDX3     19  0.10917  0.58028     p>0.05  15.198006  yes\n",
      "2  DDX41     17  0.05331  0.50841     p>0.05   0.022944  NaN\n",
      "3  DDX58     18  0.34176  0.44445   2.93E-07  26.295116  yes\n",
      "4  DDX60     13  0.30487  0.48340  0.0003593  12.732576  yes\n",
      "\n",
      "\n",
      "        ID  Nseqs       M0    TreeL     P-val     2dLNL   M8\n",
      "0    PYGO1     16  0.11171  0.26746  0.871442  0.026188  NaN\n",
      "1  MSANTD3     13  0.04902  0.13291  0.863859  0.029400  NaN\n",
      "2  PIP5K1A     16  0.05602  0.24939  0.701676  0.146734  NaN\n",
      "3  FAM102A     20  0.06066  0.51489  0.691170  0.157822  NaN\n",
      "4    GNAT3     19  0.04735  0.29761  0.690562  0.158478  NaN\n"
     ]
    }
   ],
   "source": [
    "df_Induction.columns, df_Rand.columns = ['ID','Nseqs','M0','TreeL','P-val','2dLNL','M8'], ['ID','Nseqs','M0','TreeL','P-val','2dLNL','M8']\n",
    "print df_Induction.head()\n",
    "print '\\n'\n",
    "print df_Rand.head()"
   ]
  },
  {
   "cell_type": "code",
   "execution_count": 12,
   "metadata": {},
   "outputs": [
    {
     "data": {
      "image/png": "[encoded data removed]",
      "text/plain": [
       "<matplotlib.figure.Figure at 0x11a2a4610>"
      ]
     },
     "metadata": {},
     "output_type": "display_data"
    },
    {
     "data": {
      "image/png": "[encoded data removed]",
      "text/plain": [
       "<matplotlib.figure.Figure at 0x11a4afed0>"
      ]
     },
     "metadata": {},
     "output_type": "display_data"
    }
   ],
   "source": [
    "\n",
    "#dnds_vals = [_ for _ in np.nan_to_num(np.array(df['dN/dS M0'])) if _!=0]\n",
    "dnds_Induction = df_Induction['M0']\n",
    "dnds_Rand = df_Rand['M0']\n",
    "plt.hist(dnds_Induction,bins=25,histtype='step',lw=2,color='k')\n",
    "plt.title('dnds Induction Genes Histogram')\n",
    "plt.show()\n",
    "\n",
    "plt.hist(dnds_Rand,bins=25,histtype='step',lw=2,color='k')\n",
    "plt.title('dnds Random Histogram')\n",
    "plt.show()"
   ]
  },
  {
   "cell_type": "code",
   "execution_count": 17,
   "metadata": {},
   "outputs": [
    {
     "data": {
      "image/png": "[encoded data removed]",
      "text/plain": [
       "<matplotlib.figure.Figure at 0x11a980110>"
      ]
     },
     "metadata": {},
     "output_type": "display_data"
    }
   ],
   "source": [
    "\n",
    "def bootstrap_samples_mean(array,nsamples=100):\n",
    "    bootstrap_array = []\n",
    "    for _ in range(nsamples):\n",
    "        bootstrap_array.append(np.mean(np.random.choice(array,len(array),replace=True)))\n",
    "    return bootstrap_array\n",
    "\n",
    "\n",
    "bootstrap_mean_Induction = bootstrap_samples_mean(dnds_Induction,10000)\n",
    "bootstrap_mean_Rand = bootstrap_samples_mean(dnds_Rand,10000)\n",
    "plt.hist(bootstrap_mean_Induction,bins=50,color='green',alpha=0.5,label='bootstrapped means Induction Genes',normed=True)\n",
    "plt.hist(bootstrap_mean_Rand,bins=50,color='blue',alpha=0.5,label='bootstrapped means Random',normed=True)\n",
    "\n",
    "\n",
    "plt.title('bootstrap means for dN/dS vals')\n",
    "#plt.axvline(np.mean(dnds_vals),color='k',lw)\n",
    "plt.legend()\n",
    "plt.savefig('../Figures/bootstrap_mean_histograms2.pdf')\n",
    "plt.show()\n"
   ]
  },
  {
   "cell_type": "code",
   "execution_count": 18,
   "metadata": {
    "collapsed": true
   },
   "outputs": [],
   "source": [
    "false_pos_rate = len([_ for _ in bootstrap_mean_Induction if _ < max(bootstrap_mean_Rand)])/float(len(bootstrap_mean_Induction))\n",
    "false_neg_rate = len([_ for _ in bootstrap_mean_Rand if _ > min(bootstrap_mean_Induction)])/float(len(bootstrap_mean_Rand))"
   ]
  },
  {
   "cell_type": "code",
   "execution_count": 19,
   "metadata": {},
   "outputs": [
    {
     "name": "stdout",
     "output_type": "stream",
     "text": [
      "0.9521 1.0\n"
     ]
    }
   ],
   "source": [
    "print false_neg_rate, false_pos_rate"
   ]
  },
  {
   "cell_type": "code",
   "execution_count": 20,
   "metadata": {},
   "outputs": [
    {
     "data": {
      "text/plain": [
       "Ks_2sampResult(statistic=0.12006446414182115, pvalue=0.87030098423023849)"
      ]
     },
     "execution_count": 20,
     "metadata": {},
     "output_type": "execute_result"
    }
   ],
   "source": [
    "# perform kolmogrov-smirnov test to test whether or not the two dNdS distributions are different:\n",
    "\n",
    "sps.ks_2samp(dnds_Induction,dnds_Rand)"
   ]
  },
  {
   "cell_type": "code",
   "execution_count": null,
   "metadata": {
    "collapsed": true
   },
   "outputs": [],
   "source": []
  }
 ],
 "metadata": {
  "kernelspec": {
   "display_name": "Python 2",
   "language": "python",
   "name": "python2"
  },
  "language_info": {
   "codemirror_mode": {
    "name": "ipython",
    "version": 2
   },
   "file_extension": ".py",
   "mimetype": "text/x-python",
   "name": "python",
   "nbconvert_exporter": "python",
   "pygments_lexer": "ipython2",
   "version": "2.7.13"
  }
 },
 "nbformat": 4,
 "nbformat_minor": 2
}
