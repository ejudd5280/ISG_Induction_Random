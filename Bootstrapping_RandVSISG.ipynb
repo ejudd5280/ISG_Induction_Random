{
 "cells": [
  {
   "cell_type": "code",
   "execution_count": 1,
   "metadata": {
    "collapsed": true
   },
   "outputs": [],
   "source": [
    "import numpy as np\n",
    "import pandas as pd\n",
    "import matplotlib.pyplot as plt\n",
    "%matplotlib inline\n",
    "import scipy.stats as sps"
   ]
  },
  {
   "cell_type": "code",
   "execution_count": 2,
   "metadata": {
    "collapsed": true
   },
   "outputs": [],
   "source": [
    "df_ISGs = pd.read_csv('../CSV_files/ISGs.csv')\n",
    "df_Rand = pd.read_csv('../CSV_files/Random_Genes.csv')"
   ]
  },
  {
   "cell_type": "code",
   "execution_count": 4,
   "metadata": {},
   "outputs": [
    {
     "name": "stdout",
     "output_type": "stream",
     "text": [
      "       ID  Nseqs       M0    TreeL         P-val      2dLNL   M8\n",
      "0    BST2     20  0.73156   1.6286  8.444900e-03   6.936600  yes\n",
      "1  TRIM5_     17  1.16142  1.29457  4.290000e-18  75.185502  yes\n",
      "2  TRIM56     19  0.07746  0.79052  4.534933e-01   0.561906  NaN\n",
      "3  TRIM38     20  0.32685  0.67944  2.951337e-01   1.096054  NaN\n",
      "4    IDO1     19  0.37517  0.80084  2.224475e-01   1.488512  NaN\n",
      "\n",
      "\n",
      "        ID  Nseqs       M0    TreeL     P-val     2dLNL   M8\n",
      "0    PYGO1     16  0.11171  0.26746  0.871442  0.026188  NaN\n",
      "1  MSANTD3     13  0.04902  0.13291  0.863859  0.029400  NaN\n",
      "2  PIP5K1A     16  0.05602  0.24939  0.701676  0.146734  NaN\n",
      "3  FAM102A     20  0.06066  0.51489  0.691170  0.157822  NaN\n",
      "4    GNAT3     19  0.04735  0.29761  0.690562  0.158478  NaN\n"
     ]
    }
   ],
   "source": [
    "df_ISGs.columns, df_Rand.columns = ['ID','Nseqs','M0','TreeL','P-val','2dLNL','M8'], ['ID','Nseqs','M0','TreeL','P-val','2dLNL','M8']\n",
    "print df_ISGs.head()\n",
    "print '\\n'\n",
    "print df_Rand.head()"
   ]
  },
  {
   "cell_type": "code",
   "execution_count": null,
   "metadata": {
    "collapsed": true
   },
   "outputs": [],
   "source": []
  },
  {
   "cell_type": "code",
   "execution_count": 5,
   "metadata": {},
   "outputs": [
    {
     "data": {
      "image/png": "[encoded data removed]",
      "text/plain": [
       "<matplotlib.figure.Figure at 0x1107d12d0>"
      ]
     },
     "metadata": {},
     "output_type": "display_data"
    },
    {
     "data": {
      "image/png": "[encoded data removed]",
      "text/plain": [
       "<matplotlib.figure.Figure at 0x1107e7510>"
      ]
     },
     "metadata": {},
     "output_type": "display_data"
    }
   ],
   "source": [
    "\n",
    "#dnds_vals = [_ for _ in np.nan_to_num(np.array(df['dN/dS M0'])) if _!=0]\n",
    "dnds_ISGs = df_ISGs['M0']\n",
    "dnds_Rand = df_Rand['M0']\n",
    "plt.hist(dnds_ISGs,bins=25,histtype='step',lw=2,color='k')\n",
    "plt.title('dnds ISG Histogram')\n",
    "plt.show()\n",
    "\n",
    "plt.hist(dnds_Rand,bins=25,histtype='step',lw=2,color='k')\n",
    "plt.title('dnds Random Histogram')\n",
    "plt.show()\n",
    "\n"
   ]
  },
  {
   "cell_type": "code",
   "execution_count": 12,
   "metadata": {},
   "outputs": [
    {
     "data": {
      "image/png": "[encoded data removed]",
      "text/plain": [
       "<matplotlib.figure.Figure at 0x1135ac4d0>"
      ]
     },
     "metadata": {},
     "output_type": "display_data"
    }
   ],
   "source": [
    "\n",
    "def bootstrap_samples_mean(array,nsamples=100):\n",
    "    bootstrap_array = []\n",
    "    for _ in range(nsamples):\n",
    "        bootstrap_array.append(np.mean(np.random.choice(array,len(array),replace=True)))\n",
    "    return bootstrap_array\n",
    "\n",
    "\n",
    "bootstrap_mean_ISGs = bootstrap_samples_mean(dnds_ISGs,10000)\n",
    "bootstrap_mean_Rand = bootstrap_samples_mean(dnds_Rand,10000)\n",
    "plt.hist(bootstrap_mean_ISGs,bins=50,color='red',alpha=0.5,label='bootstrapped means ISGs',normed=True)\n",
    "plt.hist(bootstrap_mean_Rand,bins=50,color='blue',alpha=0.5,label='bootstrapped means Random',normed=True)\n",
    "\n",
    "\n",
    "plt.title('bootstrap means for dN/dS vals')\n",
    "#plt.axvline(np.mean(dnds_vals),color='k',lw)\n",
    "plt.legend()\n",
    "plt.savefig('../Figures/bootstrap_mean_histograms.pdf')\n",
    "plt.show()\n",
    "\n"
   ]
  },
  {
   "cell_type": "code",
   "execution_count": 13,
   "metadata": {},
   "outputs": [],
   "source": [
    "false_pos_rate = len([_ for _ in bootstrap_mean_ISGs if _ < max(bootstrap_mean_Rand)])/float(len(bootstrap_mean_ISGs))\n",
    "false_neg_rate = len([_ for _ in bootstrap_mean_Rand if _ > min(bootstrap_mean_ISGs)])/float(len(bootstrap_mean_Rand))"
   ]
  },
  {
   "cell_type": "code",
   "execution_count": 14,
   "metadata": {},
   "outputs": [
    {
     "name": "stdout",
     "output_type": "stream",
     "text": [
      "0.0442 0.0374\n"
     ]
    }
   ],
   "source": [
    "print false_neg_rate, false_pos_rate"
   ]
  },
  {
   "cell_type": "code",
   "execution_count": 15,
   "metadata": {},
   "outputs": [
    {
     "data": {
      "text/plain": [
       "Ks_2sampResult(statistic=0.34828188701223062, pvalue=0.0029386735410081269)"
      ]
     },
     "execution_count": 15,
     "metadata": {},
     "output_type": "execute_result"
    }
   ],
   "source": [
    "# perform kolmogrov-smirnov test to test whether or not the two dNdS distributions are different:\n",
    "\n",
    "sps.ks_2samp(dnds_ISGs,dnds_Rand)"
   ]
  },
  {
   "cell_type": "code",
   "execution_count": null,
   "metadata": {
    "collapsed": true
   },
   "outputs": [],
   "source": []
  }
 ],
 "metadata": {
  "kernelspec": {
   "display_name": "Python 2",
   "language": "python",
   "name": "python2"
  },
  "language_info": {
   "codemirror_mode": {
    "name": "ipython",
    "version": 2
   },
   "file_extension": ".py",
   "mimetype": "text/x-python",
   "name": "python",
   "nbconvert_exporter": "python",
   "pygments_lexer": "ipython2",
   "version": "2.7.13"
  }
 },
 "nbformat": 4,
 "nbformat_minor": 2
}
