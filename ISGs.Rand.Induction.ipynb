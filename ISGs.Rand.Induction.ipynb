{
 "cells": [
  {
   "cell_type": "code",
   "execution_count": 1,
   "metadata": {
    "collapsed": true
   },
   "outputs": [],
   "source": [
    "import numpy as np\n",
    "import pandas as pd\n",
    "import matplotlib.pyplot as plt\n",
    "%matplotlib inline\n",
    "import scipy.stats as sps\n"
   ]
  },
  {
   "cell_type": "code",
   "execution_count": 5,
   "metadata": {
    "collapsed": true
   },
   "outputs": [],
   "source": [
    "df_Induction = pd.read_csv('../CSV_files/IFN induction genes.csv')\n",
    "df_Rand = pd.read_csv('../CSV_files/Random_Genes.csv')\n",
    "df_ISGs = pd.read_csv('../CSV_files/ISGs.csv')"
   ]
  },
  {
   "cell_type": "code",
   "execution_count": 6,
   "metadata": {},
   "outputs": [
    {
     "name": "stdout",
     "output_type": "stream",
     "text": [
      "       ID  Nseqs       M0    TreeL     P-val     2dLNL   M8        M8 sites  \\\n",
      "0    CHUK     16  0.08463  0.15415  0.950730  0.003818  NaN      1 (0.001%)   \n",
      "1    CISH     19  0.26414  0.50230  0.001635  9.920396  yes  5.07555 (4.3%)   \n",
      "2  CTNNB1     19  0.00224  0.24741  0.969000  0.001518  NaN      1 (0.001%)   \n",
      "3  CREBBP     14  0.05860  0.26161  0.425129  0.636094  NaN  2.28603 (0.8%)   \n",
      "4   DDX41     17  0.01031  0.40648  0.968000  0.001650  NaN      1 (0.001%)   \n",
      "\n",
      "                M2  \n",
      "0  0.06582 (97.9%)  \n",
      "1  0.13479 (95.6%)  \n",
      "2   0.00224 (100%)  \n",
      "3  0.04285 (99.2%)  \n",
      "4   0.01031 (100%)  \n",
      "        ID  Nseqs       M0    TreeL     P-val     2dLNL   M8 M8 sites  \\\n",
      "0    PYGO1     16  0.11171  0.26746  0.871442  0.026188  NaN      NaN   \n",
      "1  MSANTD3     13  0.04902  0.13291  0.863859  0.029400  NaN      NaN   \n",
      "2  PIP5K1A     16  0.05602  0.24939  0.701676  0.146734  NaN      NaN   \n",
      "3  FAM102A     20  0.06066  0.51489  0.691170  0.157822  NaN      NaN   \n",
      "4    GNAT3     19  0.04735  0.29761  0.690562  0.158478  NaN      NaN   \n",
      "\n",
      "                M2  \n",
      "0  0.05541 (93.1%)  \n",
      "1        0 (95.4%)  \n",
      "2        0 (95.3%)  \n",
      "3  0.02573 (94.7%)  \n",
      "4   0.02998(98.0%)  \n",
      "         ID  Nseqs       M0    TreeL         P-val      2dLNL  \\\n",
      "0      ADAR     18  0.28325  0.52447  4.930000e-05  16.473920   \n",
      "1       ADM     20  0.23191  0.79189  3.270000e-02   4.562788   \n",
      "2      AIM2     16  0.59897  0.73874  4.040000e-06  21.246328   \n",
      "3      AKT3     19  0.01431  0.19087  9.750000e-01   0.001010   \n",
      "4  APOBEC3F     10  0.76924  0.60670  1.240000e-08  32.430810   \n",
      "\n",
      "                M8 M8 sites              M2  \n",
      "0  0.08718 (86.6%)      yes     2.51 (8.6%)  \n",
      "1  0.11261 (91.9%)      yes     2.35 (7.5%)  \n",
      "2        0 (52.9%)      yes  5.94239 (1.8%)  \n",
      "3   0.01431 (100%)       no             NaN  \n",
      "4        0 (69.3%)      yes    2.95 (30.7%)  \n"
     ]
    }
   ],
   "source": [
    "df_Induction.columns, df_Rand.columns, df_ISGs.columns = ['ID','Nseqs','M0','TreeL','P-val','2dLNL','M8', 'M8 sites', 'M2'], ['ID','Nseqs','M0','TreeL','P-val','2dLNL','M8','M8 sites', 'M2'],['ID','Nseqs','M0','TreeL','P-val','2dLNL',\"M8\",'M8 sites', 'M2']\n",
    "print df_Induction.head()\n",
    "print df_Rand.head()\n",
    "print df_ISGs.head()"
   ]
  },
  {
   "cell_type": "code",
   "execution_count": 7,
   "metadata": {
    "scrolled": false
   },
   "outputs": [
    {
     "data": {
      "image/png": "[encoded data removed]",
      "text/plain": [
       "<matplotlib.figure.Figure at 0x10f7d81d0>"
      ]
     },
     "metadata": {},
     "output_type": "display_data"
    }
   ],
   "source": [
    "dnds_Induction = df_Induction['M0']\n",
    "dnds_Rand = df_Rand['M0']\n",
    "dnds_ISGs = df_ISGs['M0']\n",
    "\n",
    "plt.hist(dnds_Induction, bins=20,color='green', histtype='bar', label='Induction Genes')\n",
    "plt.hist(dnds_ISGs,bins=20,color='red',  histtype='bar', label='ISGs')\n",
    "plt.hist(dnds_Rand, bins=20, color='blue',histtype= 'bar', label='Random Genes')\n",
    "\n",
    "\n",
    "plt.title('Whole Gene dN/dS Values')\n",
    "#plt.axvline(np.mean(dnds_vals),color='k',lw)\n",
    "plt.legend()\n",
    "plt.savefig('../Figures/M0_histogram.pdf')\n",
    "plt.show()\n"
   ]
  },
  {
   "cell_type": "code",
   "execution_count": 78,
   "metadata": {},
   "outputs": [
    {
     "data": {
      "image/png": "[encoded data removed]",
      "text/plain": [
       "<matplotlib.figure.Figure at 0x118ce3c10>"
      ]
     },
     "metadata": {},
     "output_type": "display_data"
    }
   ],
   "source": [
    "def bootstrap_samples_mean(array,nsamples=100):\n",
    "    bootstrap_array = []\n",
    "    for _ in range(nsamples):\n",
    "        bootstrap_array.append(np.mean(np.random.choice(array,len(array),replace=True)))\n",
    "    return bootstrap_array\n",
    "\n",
    "\n",
    "bootstrap_mean_Induction = bootstrap_samples_mean(dnds_Induction,100)\n",
    "bootstrap_mean_ISGs = bootstrap_samples_mean(dnds_ISGs,100)\n",
    "bootstrap_mean_Rand = bootstrap_samples_mean(dnds_Rand, 100)\n",
    "plt.hist(bootstrap_mean_Induction,bins=50,color='green', alpha=0.3,label='Bootstrapped means Induction Genes',normed=True)\n",
    "plt.hist(bootstrap_mean_ISGs,bins=50,color='red',alpha=0.3,label='Bootstrapped means ISGs',normed=True)\n",
    "plt.hist(bootstrap_mean_Rand, bins=50, color='blue',alpha=0.3,label='Bootstapped means Random Genes', normed=True)\n",
    "\n",
    "\n",
    "plt.title('bootstrap means for dN/dS vals')\n",
    "#plt.axvline(np.mean(dnds_vals),color='k',lw)\n",
    "plt.legend()\n",
    "plt.savefig('../Figures/bootstrap_mean_histograms4.pdf')\n",
    "plt.show()\n"
   ]
  },
  {
   "cell_type": "code",
   "execution_count": 8,
   "metadata": {},
   "outputs": [
    {
     "data": {
      "text/plain": [
       "Ks_2sampResult(statistic=0.30215053763440863, pvalue=0.00021326832755513438)"
      ]
     },
     "execution_count": 8,
     "metadata": {},
     "output_type": "execute_result"
    }
   ],
   "source": [
    "\n",
    "sps.ks_2samp(dnds_Induction,dnds_ISGs)"
   ]
  },
  {
   "cell_type": "code",
   "execution_count": 21,
   "metadata": {},
   "outputs": [
    {
     "ename": "NameError",
     "evalue": "name 'bootstrap_mean_Rand' is not defined",
     "output_type": "error",
     "traceback": [
      "\u001b[0;31m---------------------------------------------------------------------------\u001b[0m",
      "\u001b[0;31mNameError\u001b[0m                                 Traceback (most recent call last)",
      "\u001b[0;32m<ipython-input-21-c828e2a8951e>\u001b[0m in \u001b[0;36m<module>\u001b[0;34m()\u001b[0m\n\u001b[0;32m----> 1\u001b[0;31m \u001b[0msps\u001b[0m\u001b[0;34m.\u001b[0m\u001b[0mks_2samp\u001b[0m\u001b[0;34m(\u001b[0m\u001b[0mbootstrap_mean_Rand\u001b[0m\u001b[0;34m,\u001b[0m\u001b[0mbootstrap_mean_Induction\u001b[0m\u001b[0;34m)\u001b[0m\u001b[0;34m\u001b[0m\u001b[0m\n\u001b[0m",
      "\u001b[0;31mNameError\u001b[0m: name 'bootstrap_mean_Rand' is not defined"
     ]
    }
   ],
   "source": [
    "sps.ks_2samp(bootstrap_mean_Rand,bootstrap_mean_Induction)"
   ]
  },
  {
   "cell_type": "code",
   "execution_count": 81,
   "metadata": {},
   "outputs": [
    {
     "data": {
      "text/plain": [
       "Ks_2sampResult(statistic=1.0, pvalue=1.5505547466854487e-45)"
      ]
     },
     "execution_count": 81,
     "metadata": {},
     "output_type": "execute_result"
    }
   ],
   "source": [
    "sps.ks_2samp(bootstrap_mean_Rand,bootstrap_mean_ISGs)"
   ]
  },
  {
   "cell_type": "code",
   "execution_count": 9,
   "metadata": {},
   "outputs": [
    {
     "data": {
      "text/plain": [
       "Ks_2sampResult(statistic=0.22999999999999998, pvalue=0.0082164127270169876)"
      ]
     },
     "execution_count": 9,
     "metadata": {},
     "output_type": "execute_result"
    }
   ],
   "source": [
    "sps.ks_2samp(dnds_ISGs,dnds_Rand)"
   ]
  },
  {
   "cell_type": "code",
   "execution_count": 83,
   "metadata": {},
   "outputs": [
    {
     "data": {
      "text/plain": [
       "Ttest_indResult(statistic=-44.752946193147189, pvalue=2.676555760847469e-85)"
      ]
     },
     "execution_count": 83,
     "metadata": {},
     "output_type": "execute_result"
    }
   ],
   "source": [
    "\n",
    "\n",
    "sps.ttest_ind(bootstrap_mean_Rand,bootstrap_mean_ISGs, equal_var=False)"
   ]
  },
  {
   "cell_type": "code",
   "execution_count": 84,
   "metadata": {
    "scrolled": true
   },
   "outputs": [
    {
     "data": {
      "text/plain": [
       "Ttest_indResult(statistic=-12.198111511116728, pvalue=1.8675706457972601e-24)"
      ]
     },
     "execution_count": 84,
     "metadata": {},
     "output_type": "execute_result"
    }
   ],
   "source": [
    "sps.ttest_ind(bootstrap_mean_Rand,bootstrap_mean_Induction,equal_var=False)"
   ]
  },
  {
   "cell_type": "code",
   "execution_count": 85,
   "metadata": {},
   "outputs": [
    {
     "data": {
      "text/plain": [
       "F_onewayResult(statistic=148.79392443763822, pvalue=6.8665090241090893e-26)"
      ]
     },
     "execution_count": 85,
     "metadata": {},
     "output_type": "execute_result"
    }
   ],
   "source": [
    "#anova test of rand and induction\n",
    "sps.f_oneway(bootstrap_mean_Rand,bootstrap_mean_Induction)"
   ]
  },
  {
   "cell_type": "code",
   "execution_count": 86,
   "metadata": {},
   "outputs": [
    {
     "data": {
      "text/plain": [
       "F_onewayResult(statistic=2002.826192966734, pvalue=1.6872557485767318e-105)"
      ]
     },
     "execution_count": 86,
     "metadata": {},
     "output_type": "execute_result"
    }
   ],
   "source": [
    "sps.f_oneway(bootstrap_mean_Rand,bootstrap_mean_ISGs)"
   ]
  },
  {
   "cell_type": "code",
   "execution_count": 10,
   "metadata": {},
   "outputs": [
    {
     "ename": "NameError",
     "evalue": "name 'bootstrap_mean_Rand' is not defined",
     "output_type": "error",
     "traceback": [
      "\u001b[0;31m---------------------------------------------------------------------------\u001b[0m",
      "\u001b[0;31mNameError\u001b[0m                                 Traceback (most recent call last)",
      "\u001b[0;32m<ipython-input-10-fc890c4532d2>\u001b[0m in \u001b[0;36m<module>\u001b[0;34m()\u001b[0m\n\u001b[0;32m----> 1\u001b[0;31m \u001b[0mplt\u001b[0m\u001b[0;34m.\u001b[0m\u001b[0mboxplot\u001b[0m\u001b[0;34m(\u001b[0m\u001b[0;34m[\u001b[0m\u001b[0mbootstrap_mean_Rand\u001b[0m\u001b[0;34m,\u001b[0m \u001b[0mbootstrap_mean_Induction\u001b[0m\u001b[0;34m,\u001b[0m \u001b[0mbootstrap_mean_ISGs\u001b[0m\u001b[0;34m]\u001b[0m\u001b[0;34m,\u001b[0m \u001b[0mvert\u001b[0m\u001b[0;34m=\u001b[0m\u001b[0mTrue\u001b[0m\u001b[0;34m)\u001b[0m\u001b[0;34m\u001b[0m\u001b[0m\n\u001b[0m\u001b[1;32m      2\u001b[0m \u001b[0mplt\u001b[0m\u001b[0;34m.\u001b[0m\u001b[0msavefig\u001b[0m\u001b[0;34m(\u001b[0m\u001b[0;34m'../Figures/bootstrap_box_plot.pdf'\u001b[0m\u001b[0;34m)\u001b[0m\u001b[0;34m\u001b[0m\u001b[0m\n",
      "\u001b[0;31mNameError\u001b[0m: name 'bootstrap_mean_Rand' is not defined"
     ]
    }
   ],
   "source": [
    "plt.boxplot([bootstrap_mean_Rand, bootstrap_mean_Induction, bootstrap_mean_ISGs], vert=True)\n",
    "plt.savefig('../Figures/bootstrap_box_plot.pdf')"
   ]
  },
  {
   "cell_type": "code",
   "execution_count": 11,
   "metadata": {},
   "outputs": [
    {
     "data": {
      "text/plain": [
       "Ks_2sampResult(statistic=0.30215053763440863, pvalue=0.00021326832755513438)"
      ]
     },
     "execution_count": 11,
     "metadata": {},
     "output_type": "execute_result"
    }
   ],
   "source": [
    "sps.ks_2samp(dnds_ISGs,dnds_Induction)"
   ]
  },
  {
   "cell_type": "code",
   "execution_count": 24,
   "metadata": {},
   "outputs": [
    {
     "ename": "TypeError",
     "evalue": "hist() got multiple values for keyword argument 'bins'",
     "output_type": "error",
     "traceback": [
      "\u001b[0;31m---------------------------------------------------------------------------\u001b[0m",
      "\u001b[0;31mTypeError\u001b[0m                                 Traceback (most recent call last)",
      "\u001b[0;32m<ipython-input-24-8a6abb7e5260>\u001b[0m in \u001b[0;36m<module>\u001b[0;34m()\u001b[0m\n\u001b[1;32m      4\u001b[0m \u001b[0mdnds_ISGM2\u001b[0m \u001b[0;34m=\u001b[0m \u001b[0mdf_ISGs\u001b[0m\u001b[0;34m[\u001b[0m\u001b[0;34m'M2'\u001b[0m\u001b[0;34m]\u001b[0m\u001b[0;34m\u001b[0m\u001b[0m\n\u001b[1;32m      5\u001b[0m \u001b[0;34m\u001b[0m\u001b[0m\n\u001b[0;32m----> 6\u001b[0;31m \u001b[0mplt\u001b[0m\u001b[0;34m.\u001b[0m\u001b[0mhist\u001b[0m\u001b[0;34m(\u001b[0m\u001b[0;34m'dnds_InductionM2'\u001b[0m\u001b[0;34m,\u001b[0m \u001b[0;34m'dnds_RandM2'\u001b[0m\u001b[0;34m,\u001b[0m \u001b[0;34m'dnds_ISGM2'\u001b[0m\u001b[0;34m,\u001b[0m \u001b[0mbins\u001b[0m\u001b[0;34m=\u001b[0m\u001b[0;36m25\u001b[0m\u001b[0;34m,\u001b[0m\u001b[0mhisttype\u001b[0m\u001b[0;34m=\u001b[0m\u001b[0;34m'step'\u001b[0m\u001b[0;34m,\u001b[0m\u001b[0mlw\u001b[0m\u001b[0;34m=\u001b[0m\u001b[0;36m2\u001b[0m\u001b[0;34m)\u001b[0m\u001b[0;34m\u001b[0m\u001b[0m\n\u001b[0m\u001b[1;32m      7\u001b[0m \u001b[0mplt\u001b[0m\u001b[0;34m.\u001b[0m\u001b[0mtitle\u001b[0m\u001b[0;34m(\u001b[0m\u001b[0;34m'dnds M2 Histogram'\u001b[0m\u001b[0;34m)\u001b[0m\u001b[0;34m\u001b[0m\u001b[0m\n\u001b[1;32m      8\u001b[0m \u001b[0mplt\u001b[0m\u001b[0;34m.\u001b[0m\u001b[0mshow\u001b[0m\u001b[0;34m(\u001b[0m\u001b[0;34m)\u001b[0m\u001b[0;34m\u001b[0m\u001b[0m\n",
      "\u001b[0;31mTypeError\u001b[0m: hist() got multiple values for keyword argument 'bins'"
     ]
    }
   ],
   "source": [
    "\n",
    "dnds_InductionM2 = df_Induction['M2']\n",
    "dnds_RandM2 = df_Rand['M2']\n",
    "dnds_ISGM2 = df_ISGs['M2']\n",
    "\n",
    "plt.hist('dnds_InductionM2', 'dnds_RandM2', 'dnds_ISGM2', bins=25,histtype='step',lw=2)\n",
    "plt.title('dnds M2 Histogram')\n",
    "plt.show()\n"
   ]
  },
  {
   "cell_type": "code",
   "execution_count": 12,
   "metadata": {},
   "outputs": [
    {
     "ename": "NameError",
     "evalue": "name 'bootstrap_mean_ISGs' is not defined",
     "output_type": "error",
     "traceback": [
      "\u001b[0;31m---------------------------------------------------------------------------\u001b[0m",
      "\u001b[0;31mNameError\u001b[0m                                 Traceback (most recent call last)",
      "\u001b[0;32m<ipython-input-12-ab25502e4725>\u001b[0m in \u001b[0;36m<module>\u001b[0;34m()\u001b[0m\n\u001b[0;32m----> 1\u001b[0;31m \u001b[0msps\u001b[0m\u001b[0;34m.\u001b[0m\u001b[0mttest_ind\u001b[0m\u001b[0;34m(\u001b[0m\u001b[0mbootstrap_mean_ISGs\u001b[0m\u001b[0;34m,\u001b[0m\u001b[0mbootstrap_mean_Induction\u001b[0m\u001b[0;34m,\u001b[0m\u001b[0mequal_var\u001b[0m\u001b[0;34m=\u001b[0m\u001b[0mFalse\u001b[0m\u001b[0;34m)\u001b[0m\u001b[0;34m\u001b[0m\u001b[0m\n\u001b[0m",
      "\u001b[0;31mNameError\u001b[0m: name 'bootstrap_mean_ISGs' is not defined"
     ]
    }
   ],
   "source": [
    "sps.ttest_ind(bootstrap_mean_ISGs,bootstrap_mean_Induction,equal_var=False)"
   ]
  },
  {
   "cell_type": "code",
   "execution_count": 13,
   "metadata": {},
   "outputs": [
    {
     "data": {
      "image/png": "[encoded data removed]",
      "text/plain": [
       "<matplotlib.figure.Figure at 0x111f95150>"
      ]
     },
     "metadata": {},
     "output_type": "display_data"
    }
   ],
   "source": [
    "plt.boxplot([dnds_Rand, dnds_Induction, dnds_ISGs], vert=True, showfliers=False, showmeans= True)\n",
    "plt.savefig('../Figures/M0_box_plot.pdf')"
   ]
  },
  {
   "cell_type": "code",
   "execution_count": 14,
   "metadata": {},
   "outputs": [
    {
     "data": {
      "text/plain": [
       "KruskalResult(statistic=1.1044655044540481, pvalue=0.29328819717527965)"
      ]
     },
     "execution_count": 14,
     "metadata": {},
     "output_type": "execute_result"
    }
   ],
   "source": [
    "sps.kruskal(dnds_Rand, dnds_Induction)"
   ]
  },
  {
   "cell_type": "code",
   "execution_count": 15,
   "metadata": {},
   "outputs": [
    {
     "data": {
      "text/plain": [
       "KruskalResult(statistic=11.189020895522503, pvalue=0.00082282752405194674)"
      ]
     },
     "execution_count": 15,
     "metadata": {},
     "output_type": "execute_result"
    }
   ],
   "source": [
    "sps.kruskal(dnds_Rand,dnds_ISGs)"
   ]
  },
  {
   "cell_type": "code",
   "execution_count": 16,
   "metadata": {},
   "outputs": [
    {
     "data": {
      "text/plain": [
       "KruskalResult(statistic=14.588367143332221, pvalue=0.00013373758320371805)"
      ]
     },
     "execution_count": 16,
     "metadata": {},
     "output_type": "execute_result"
    }
   ],
   "source": [
    "sps.kruskal(dnds_ISGs,dnds_Induction)"
   ]
  },
  {
   "cell_type": "code",
   "execution_count": 17,
   "metadata": {},
   "outputs": [
    {
     "data": {
      "text/plain": [
       "RanksumsResult(statistic=1.0509350991571771, pvalue=0.29328839861524225)"
      ]
     },
     "execution_count": 17,
     "metadata": {},
     "output_type": "execute_result"
    }
   ],
   "source": [
    "sps.ranksums(dnds_Rand, dnds_Induction)"
   ]
  },
  {
   "cell_type": "code",
   "execution_count": 18,
   "metadata": {},
   "outputs": [
    {
     "data": {
      "text/plain": [
       "RanksumsResult(statistic=-3.3449993864756369, pvalue=0.00082282752405199802)"
      ]
     },
     "execution_count": 18,
     "metadata": {},
     "output_type": "execute_result"
    }
   ],
   "source": [
    "sps.ranksums(dnds_Rand, dnds_ISGs)"
   ]
  },
  {
   "cell_type": "code",
   "execution_count": 19,
   "metadata": {},
   "outputs": [
    {
     "data": {
      "text/plain": [
       "RanksumsResult(statistic=3.8194721027037524, pvalue=0.00013373758320371786)"
      ]
     },
     "execution_count": 19,
     "metadata": {},
     "output_type": "execute_result"
    }
   ],
   "source": [
    "sps.ranksums(dnds_ISGs, dnds_Induction)"
   ]
  },
  {
   "cell_type": "code",
   "execution_count": 16,
   "metadata": {},
   "outputs": [
    {
     "ename": "SyntaxError",
     "evalue": "invalid syntax (<ipython-input-16-9eb8567dd631>, line 2)",
     "output_type": "error",
     "traceback": [
      "\u001b[0;36m  File \u001b[0;32m\"<ipython-input-16-9eb8567dd631>\"\u001b[0;36m, line \u001b[0;32m2\u001b[0m\n\u001b[0;31m    b = np.\"M0\"(10, size=100)\u001b[0m\n\u001b[0m              ^\u001b[0m\n\u001b[0;31mSyntaxError\u001b[0m\u001b[0;31m:\u001b[0m invalid syntax\n"
     ]
    }
   ],
   "source": [
    "a =  np.random.randint(10, size=100)\n",
    "b = np.\"M0\"(10, size=100)\n",
    "c= np.random.randint(10, size=62)\n",
    "plt.hist((a, b, c), 10, label = (\"dnds_Rand\", \"dnds_ISGs\", \"dnds_Induction\"))\n",
    "plt.legend()"
   ]
  },
  {
   "cell_type": "code",
   "execution_count": 20,
   "metadata": {},
   "outputs": [
    {
     "data": {
      "text/plain": [
       "Ttest_indResult(statistic=3.4473220399302171, pvalue=0.00069634333026090303)"
      ]
     },
     "execution_count": 20,
     "metadata": {},
     "output_type": "execute_result"
    }
   ],
   "source": [
    "sps.ttest_ind(dnds_ISGs, dnds_Induction)"
   ]
  },
  {
   "cell_type": "code",
   "execution_count": 21,
   "metadata": {},
   "outputs": [
    {
     "data": {
      "text/plain": [
       "Ttest_indResult(statistic=3.9861793355065473, pvalue=9.4379863811470336e-05)"
      ]
     },
     "execution_count": 21,
     "metadata": {},
     "output_type": "execute_result"
    }
   ],
   "source": [
    "sps.ttest_ind(dnds_ISGs, dnds_Rand)"
   ]
  },
  {
   "cell_type": "code",
   "execution_count": 22,
   "metadata": {},
   "outputs": [
    {
     "data": {
      "text/plain": [
       "Ttest_indResult(statistic=-0.2513810120436677, pvalue=0.80178979884209167)"
      ]
     },
     "execution_count": 22,
     "metadata": {},
     "output_type": "execute_result"
    }
   ],
   "source": [
    "sps.ttest_ind(dnds_Rand, dnds_Induction)"
   ]
  },
  {
   "cell_type": "code",
   "execution_count": 23,
   "metadata": {
    "collapsed": true
   },
   "outputs": [],
   "source": [
    "Seq_Induction = df_Induction['Nseqs']\n",
    "Seq_Rand = df_Rand['Nseqs']\n",
    "Seq_ISGs = df_ISGs['Nseqs']"
   ]
  },
  {
   "cell_type": "code",
   "execution_count": 24,
   "metadata": {},
   "outputs": [
    {
     "data": {
      "text/plain": [
       "(array([  2.,   0.,   3.,   0.,   2.,   0.,   3.,   0.,   6.,   0.,   8.,\n",
       "          0.,  21.,   0.,  11.,   0.,  23.,   0.,  14.,   7.]),\n",
       " array([ 10. ,  10.5,  11. ,  11.5,  12. ,  12.5,  13. ,  13.5,  14. ,\n",
       "         14.5,  15. ,  15.5,  16. ,  16.5,  17. ,  17.5,  18. ,  18.5,\n",
       "         19. ,  19.5,  20. ]),\n",
       " <a list of 20 Patch objects>)"
      ]
     },
     "execution_count": 24,
     "metadata": {},
     "output_type": "execute_result"
    },
    {
     "data": {
      "image/png": "[encoded data removed]",
      "text/plain": [
       "<matplotlib.figure.Figure at 0x1122819d0>"
      ]
     },
     "metadata": {},
     "output_type": "display_data"
    }
   ],
   "source": [
    "plt.hist(Seq_Induction, bins=20,color='green', histtype='bar', label='Induction Genes')\n",
    "plt.hist(Seq_ISGs,bins=20,color='red',  histtype='bar', label='ISGs')\n",
    "plt.hist(Seq_Rand, bins=20, color='blue',histtype= 'bar', label='Random Genes')\n"
   ]
  },
  {
   "cell_type": "code",
   "execution_count": 31,
   "metadata": {},
   "outputs": [
    {
     "data": {
      "text/plain": [
       "Ttest_indResult(statistic=1.1354422652122154, pvalue=0.25761285112863935)"
      ]
     },
     "execution_count": 31,
     "metadata": {},
     "output_type": "execute_result"
    }
   ],
   "source": [
    "sps.ttest_ind(Seq_ISGs,Seq_Induction)"
   ]
  },
  {
   "cell_type": "code",
   "execution_count": 32,
   "metadata": {},
   "outputs": [
    {
     "data": {
      "text/plain": [
       "Ttest_indResult(statistic=2.178203272922639, pvalue=0.030572395398307379)"
      ]
     },
     "execution_count": 32,
     "metadata": {},
     "output_type": "execute_result"
    }
   ],
   "source": [
    "sps.ttest_ind(Seq_ISGs,Seq_Rand)"
   ]
  },
  {
   "cell_type": "code",
   "execution_count": 33,
   "metadata": {},
   "outputs": [
    {
     "data": {
      "text/plain": [
       "Ttest_indResult(statistic=1.1745516547175883, pvalue=0.2416364324162984)"
      ]
     },
     "execution_count": 33,
     "metadata": {},
     "output_type": "execute_result"
    }
   ],
   "source": [
    "sps.ttest_ind(Seq_Induction,Seq_Rand)"
   ]
  },
  {
   "cell_type": "code",
   "execution_count": null,
   "metadata": {
    "collapsed": true
   },
   "outputs": [],
   "source": []
  },
  {
   "cell_type": "code",
   "execution_count": null,
   "metadata": {
    "collapsed": true
   },
   "outputs": [],
   "source": []
  }
 ],
 "metadata": {
  "kernelspec": {
   "display_name": "Python 2",
   "language": "python",
   "name": "python2"
  },
  "language_info": {
   "codemirror_mode": {
    "name": "ipython",
    "version": 2
   },
   "file_extension": ".py",
   "mimetype": "text/x-python",
   "name": "python",
   "nbconvert_exporter": "python",
   "pygments_lexer": "ipython2",
   "version": "2.7.13"
  }
 },
 "nbformat": 4,
 "nbformat_minor": 2
}
