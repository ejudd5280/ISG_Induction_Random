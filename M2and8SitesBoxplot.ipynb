{
 "cells": [
  {
   "cell_type": "code",
   "execution_count": 1,
   "metadata": {
    "collapsed": true
   },
   "outputs": [],
   "source": [
    "import numpy as np\n",
    "import pandas as pd\n",
    "import matplotlib.pyplot as plt\n",
    "%matplotlib inline\n",
    "import scipy.stats as sps"
   ]
  },
  {
   "cell_type": "code",
   "execution_count": 2,
   "metadata": {
    "collapsed": true
   },
   "outputs": [],
   "source": [
    "df_Induction = pd.read_csv('../CSV_files/InductionM2.csv')\n",
    "df_Rand = pd.read_csv('../CSV_files/RandM2.csv')\n",
    "df_ISGs = pd.read_csv('../CSV_files/ISGM2.csv')"
   ]
  },
  {
   "cell_type": "code",
   "execution_count": 3,
   "metadata": {},
   "outputs": [
    {
     "name": "stdout",
     "output_type": "stream",
     "text": [
      "      M2\n",
      "0   97.9\n",
      "1   95.6\n",
      "2  100.0\n",
      "3   99.2\n",
      "4  100.0\n",
      "     M2\n",
      "0  18.3\n",
      "1  48.2\n",
      "2  49.2\n",
      "3  58.0\n",
      "4  70.4\n",
      "      M2\n",
      "0   86.6\n",
      "1   91.9\n",
      "2   52.9\n",
      "3  100.0\n",
      "4   69.3\n"
     ]
    }
   ],
   "source": [
    "df_Induction.columns, df_Rand.columns, df_ISGs.columns = [ 'M2'], ['M2'],[ 'M2']\n",
    "print df_Induction.head()\n",
    "print df_Rand.head()\n",
    "print df_ISGs.head()\n",
    "\n",
    "IndM2 = df_Induction['M2']\n",
    "RandM2 = df_Rand['M2']\n",
    "ISGM2 = df_ISGs['M2']"
   ]
  },
  {
   "cell_type": "code",
   "execution_count": 5,
   "metadata": {},
   "outputs": [
    {
     "data": {
      "image/png": "[encoded data removed]",
      "text/plain": [
       "<matplotlib.figure.Figure at 0x11c28d410>"
      ]
     },
     "metadata": {},
     "output_type": "display_data"
    }
   ],
   "source": [
    "plt.boxplot([RandM2, IndM2, ISGM2], vert=True, showfliers=False, showmeans= True)\n",
    "plt.savefig('../Figures/M2Boxplot.pdf')"
   ]
  },
  {
   "cell_type": "code",
   "execution_count": 5,
   "metadata": {},
   "outputs": [
    {
     "name": "stdout",
     "output_type": "stream",
     "text": [
      "      M8\n",
      "0  0.001\n",
      "1  4.300\n",
      "2  0.001\n",
      "3  0.800\n",
      "4  0.001\n",
      "      M8\n",
      "0  4.100\n",
      "1  0.001\n",
      "2  1.700\n",
      "3  4.300\n",
      "4  3.800\n",
      "       M8\n",
      "0   8.600\n",
      "1   7.500\n",
      "2   1.800\n",
      "3   0.001\n",
      "4  30.700\n"
     ]
    }
   ],
   "source": [
    "df_Induction8 = pd.read_csv('../CSV_files/Induction_M8.csv')\n",
    "df_Rand8 = pd.read_csv('../CSV_files/RandM8.csv')\n",
    "df_ISGs8 = pd.read_csv('../CSV_files/ISGM8.csv')\n",
    "df_Induction8.columns, df_Rand8.columns, df_ISGs8.columns = ['M8'], ['M8'], ['M8']\n",
    "\n",
    "print df_Induction8.head()\n",
    "print df_Rand8.head()\n",
    "print df_ISGs8.head()\n",
    "\n",
    "IndM8 = df_Induction8['M8']\n",
    "RandM8 = df_Rand8['M8']\n",
    "ISGM8 = df_ISGs8['M8']"
   ]
  },
  {
   "cell_type": "code",
   "execution_count": 6,
   "metadata": {},
   "outputs": [
    {
     "data": {
      "image/png": "[encoded data removed]",
      "text/plain": [
       "<matplotlib.figure.Figure at 0x11da44fd0>"
      ]
     },
     "metadata": {},
     "output_type": "display_data"
    }
   ],
   "source": [
    "plt.boxplot([RandM8, IndM8, ISGM8], vert=True, showfliers=False, showmeans= True)\n",
    "plt.savefig('../Figures/M8Boxplot.pdf')"
   ]
  },
  {
   "cell_type": "code",
   "execution_count": 7,
   "metadata": {},
   "outputs": [
    {
     "data": {
      "text/plain": [
       "Ttest_indResult(statistic=0.87237531107993971, pvalue=0.3840990006774021)"
      ]
     },
     "execution_count": 7,
     "metadata": {},
     "output_type": "execute_result"
    }
   ],
   "source": [
    "sps.ttest_ind(RandM8, IndM8)"
   ]
  },
  {
   "cell_type": "code",
   "execution_count": 8,
   "metadata": {},
   "outputs": [
    {
     "data": {
      "text/plain": [
       "Ttest_indResult(statistic=-2.4630656516857767, pvalue=0.014629276606302866)"
      ]
     },
     "execution_count": 8,
     "metadata": {},
     "output_type": "execute_result"
    }
   ],
   "source": [
    "sps.ttest_ind(RandM8, ISGM8)"
   ]
  },
  {
   "cell_type": "code",
   "execution_count": 9,
   "metadata": {},
   "outputs": [
    {
     "data": {
      "text/plain": [
       "Ttest_indResult(statistic=3.5469273341564587, pvalue=0.00049034702565004874)"
      ]
     },
     "execution_count": 9,
     "metadata": {},
     "output_type": "execute_result"
    }
   ],
   "source": [
    "sps.ttest_ind(ISGM8, IndM8)"
   ]
  },
  {
   "cell_type": "code",
   "execution_count": 10,
   "metadata": {},
   "outputs": [
    {
     "data": {
      "text/plain": [
       "Ttest_indResult(statistic=-4.0087249312917814, pvalue=8.7474772354688218e-05)"
      ]
     },
     "execution_count": 10,
     "metadata": {},
     "output_type": "execute_result"
    }
   ],
   "source": [
    "sps.ttest_ind(ISGM2, IndM2)"
   ]
  },
  {
   "cell_type": "code",
   "execution_count": 11,
   "metadata": {},
   "outputs": [
    {
     "data": {
      "text/plain": [
       "Ttest_indResult(statistic=3.6116860373530462, pvalue=0.00038556278392398339)"
      ]
     },
     "execution_count": 11,
     "metadata": {},
     "output_type": "execute_result"
    }
   ],
   "source": [
    "sps.ttest_ind(RandM2, ISGM2)"
   ]
  },
  {
   "cell_type": "code",
   "execution_count": 12,
   "metadata": {},
   "outputs": [
    {
     "data": {
      "text/plain": [
       "Ttest_indResult(statistic=-0.56970009345467565, pvalue=0.56955056334935161)"
      ]
     },
     "execution_count": 12,
     "metadata": {},
     "output_type": "execute_result"
    }
   ],
   "source": [
    "sps.ttest_ind(RandM2, IndM2)"
   ]
  },
  {
   "cell_type": "code",
   "execution_count": null,
   "metadata": {
    "collapsed": true
   },
   "outputs": [],
   "source": []
  },
  {
   "cell_type": "code",
   "execution_count": null,
   "metadata": {
    "collapsed": true
   },
   "outputs": [],
   "source": []
  }
 ],
 "metadata": {
  "kernelspec": {
   "display_name": "Python 2",
   "language": "python",
   "name": "python2"
  },
  "language_info": {
   "codemirror_mode": {
    "name": "ipython",
    "version": 2
   },
   "file_extension": ".py",
   "mimetype": "text/x-python",
   "name": "python",
   "nbconvert_exporter": "python",
   "pygments_lexer": "ipython2",
   "version": "2.7.13"
  }
 },
 "nbformat": 4,
 "nbformat_minor": 2
}
